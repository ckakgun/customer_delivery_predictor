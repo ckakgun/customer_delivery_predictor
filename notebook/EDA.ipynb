{
 "cells": [
  {
   "cell_type": "markdown",
   "metadata": {},
   "source": [
    "# Customer Delivery Time Prediction\n",
    "\n",
    "## Project Lifecycle\n",
    "1. Problem Understanding\n",
    "2. Data Collection\n",
    "3. Data Quality Checks\n",
    "4. Exploratory Data Analysis (EDA)\n",
    "5. Data Pre-processing\n",
    "6. Model Training\n",
    "7. Model Selection\n",
    "\n",
    "## 1. Problem Statement\n",
    "Predict delivery times for food orders to:\n",
    "- Improve customer satisfaction\n",
    "- Optimize delivery operations\n",
    "\n",
    "## 2. Data Collection\n",
    "\n",
    "### About the Dataset\n",
    "Food delivery is a courier service where restaurants, stores, or independent food-delivery companies deliver food to customers. Orders are typically placed through:\n",
    "- Restaurant websites/apps\n",
    "- Grocer websites/apps\n",
    "- Food ordering platforms\n",
    "\n",
    "### Delivery Details\n",
    "- **Items Delivered**: Entrees, sides, drinks, desserts, grocery items\n",
    "- **Packaging**: Boxes or bags\n",
    "- **Delivery Vehicles**: \n",
    "  - Cars (primary)\n",
    "  - Bikes/motorized scooters (in urban areas)\n",
    "\n",
    "### Dataset Information\n",
    "- **Source**: [Kaggle Dataset](https://www.kaggle.com/datasets/gauravmalik26/food-delivery-dataset?select=train.csv)\n",
    "- **Size**: 45,593 rows\n",
    "- **Features**: 20 columns"
   ]
  },
  {
   "cell_type": "markdown",
   "metadata": {},
   "source": [
    "## 2.1 Import Data and Required Packages\n"
   ]
  },
  {
   "cell_type": "code",
   "execution_count": 296,
   "metadata": {},
   "outputs": [],
   "source": [
    "import numpy as np \n",
    "import pandas as pd\n",
    "import matplotlib.pyplot as plt\n",
    "import seaborn as sns\n",
    "from geopy.distance import geodesic\n"
   ]
  },
  {
   "cell_type": "code",
   "execution_count": 297,
   "metadata": {},
   "outputs": [],
   "source": [
    "df = pd.read_csv('data/food_delivery.csv')"
   ]
  },
  {
   "cell_type": "code",
   "execution_count": 298,
   "metadata": {},
   "outputs": [],
   "source": [
    "df.drop('ID',axis=1,inplace=True)"
   ]
  },
  {
   "cell_type": "code",
   "execution_count": 299,
   "metadata": {},
   "outputs": [
    {
     "data": {
      "text/plain": [
       "(45593, 19)"
      ]
     },
     "execution_count": 299,
     "metadata": {},
     "output_type": "execute_result"
    }
   ],
   "source": [
    "df.shape"
   ]
  },
  {
   "cell_type": "code",
   "execution_count": 300,
   "metadata": {},
   "outputs": [
    {
     "data": {
      "text/html": [
       "<div>\n",
       "<style scoped>\n",
       "    .dataframe tbody tr th:only-of-type {\n",
       "        vertical-align: middle;\n",
       "    }\n",
       "\n",
       "    .dataframe tbody tr th {\n",
       "        vertical-align: top;\n",
       "    }\n",
       "\n",
       "    .dataframe thead th {\n",
       "        text-align: right;\n",
       "    }\n",
       "</style>\n",
       "<table border=\"1\" class=\"dataframe\">\n",
       "  <thead>\n",
       "    <tr style=\"text-align: right;\">\n",
       "      <th></th>\n",
       "      <th>Delivery_person_ID</th>\n",
       "      <th>Delivery_person_Age</th>\n",
       "      <th>Delivery_person_Ratings</th>\n",
       "      <th>Restaurant_latitude</th>\n",
       "      <th>Restaurant_longitude</th>\n",
       "      <th>Delivery_location_latitude</th>\n",
       "      <th>Delivery_location_longitude</th>\n",
       "      <th>Order_Date</th>\n",
       "      <th>Time_Orderd</th>\n",
       "      <th>Time_Order_picked</th>\n",
       "      <th>Weatherconditions</th>\n",
       "      <th>Road_traffic_density</th>\n",
       "      <th>Vehicle_condition</th>\n",
       "      <th>Type_of_order</th>\n",
       "      <th>Type_of_vehicle</th>\n",
       "      <th>multiple_deliveries</th>\n",
       "      <th>Festival</th>\n",
       "      <th>City</th>\n",
       "      <th>Time_taken(min)</th>\n",
       "    </tr>\n",
       "  </thead>\n",
       "  <tbody>\n",
       "    <tr>\n",
       "      <th>0</th>\n",
       "      <td>INDORES13DEL02</td>\n",
       "      <td>37</td>\n",
       "      <td>4.9</td>\n",
       "      <td>22.745049</td>\n",
       "      <td>75.892471</td>\n",
       "      <td>22.765049</td>\n",
       "      <td>75.912471</td>\n",
       "      <td>19-03-2022</td>\n",
       "      <td>11:30:00</td>\n",
       "      <td>11:45:00</td>\n",
       "      <td>conditions Sunny</td>\n",
       "      <td>High</td>\n",
       "      <td>2</td>\n",
       "      <td>Snack</td>\n",
       "      <td>motorcycle</td>\n",
       "      <td>0</td>\n",
       "      <td>No</td>\n",
       "      <td>Urban</td>\n",
       "      <td>(min) 24</td>\n",
       "    </tr>\n",
       "    <tr>\n",
       "      <th>1</th>\n",
       "      <td>BANGRES18DEL02</td>\n",
       "      <td>34</td>\n",
       "      <td>4.5</td>\n",
       "      <td>12.913041</td>\n",
       "      <td>77.683237</td>\n",
       "      <td>13.043041</td>\n",
       "      <td>77.813237</td>\n",
       "      <td>25-03-2022</td>\n",
       "      <td>19:45:00</td>\n",
       "      <td>19:50:00</td>\n",
       "      <td>conditions Stormy</td>\n",
       "      <td>Jam</td>\n",
       "      <td>2</td>\n",
       "      <td>Snack</td>\n",
       "      <td>scooter</td>\n",
       "      <td>1</td>\n",
       "      <td>No</td>\n",
       "      <td>Metropolitian</td>\n",
       "      <td>(min) 33</td>\n",
       "    </tr>\n",
       "    <tr>\n",
       "      <th>2</th>\n",
       "      <td>BANGRES19DEL01</td>\n",
       "      <td>23</td>\n",
       "      <td>4.4</td>\n",
       "      <td>12.914264</td>\n",
       "      <td>77.678400</td>\n",
       "      <td>12.924264</td>\n",
       "      <td>77.688400</td>\n",
       "      <td>19-03-2022</td>\n",
       "      <td>08:30:00</td>\n",
       "      <td>08:45:00</td>\n",
       "      <td>conditions Sandstorms</td>\n",
       "      <td>Low</td>\n",
       "      <td>0</td>\n",
       "      <td>Drinks</td>\n",
       "      <td>motorcycle</td>\n",
       "      <td>1</td>\n",
       "      <td>No</td>\n",
       "      <td>Urban</td>\n",
       "      <td>(min) 26</td>\n",
       "    </tr>\n",
       "    <tr>\n",
       "      <th>3</th>\n",
       "      <td>COIMBRES13DEL02</td>\n",
       "      <td>38</td>\n",
       "      <td>4.7</td>\n",
       "      <td>11.003669</td>\n",
       "      <td>76.976494</td>\n",
       "      <td>11.053669</td>\n",
       "      <td>77.026494</td>\n",
       "      <td>05-04-2022</td>\n",
       "      <td>18:00:00</td>\n",
       "      <td>18:10:00</td>\n",
       "      <td>conditions Sunny</td>\n",
       "      <td>Medium</td>\n",
       "      <td>0</td>\n",
       "      <td>Buffet</td>\n",
       "      <td>motorcycle</td>\n",
       "      <td>1</td>\n",
       "      <td>No</td>\n",
       "      <td>Metropolitian</td>\n",
       "      <td>(min) 21</td>\n",
       "    </tr>\n",
       "    <tr>\n",
       "      <th>4</th>\n",
       "      <td>CHENRES12DEL01</td>\n",
       "      <td>32</td>\n",
       "      <td>4.6</td>\n",
       "      <td>12.972793</td>\n",
       "      <td>80.249982</td>\n",
       "      <td>13.012793</td>\n",
       "      <td>80.289982</td>\n",
       "      <td>26-03-2022</td>\n",
       "      <td>13:30:00</td>\n",
       "      <td>13:45:00</td>\n",
       "      <td>conditions Cloudy</td>\n",
       "      <td>High</td>\n",
       "      <td>1</td>\n",
       "      <td>Snack</td>\n",
       "      <td>scooter</td>\n",
       "      <td>1</td>\n",
       "      <td>No</td>\n",
       "      <td>Metropolitian</td>\n",
       "      <td>(min) 30</td>\n",
       "    </tr>\n",
       "  </tbody>\n",
       "</table>\n",
       "</div>"
      ],
      "text/plain": [
       "  Delivery_person_ID Delivery_person_Age Delivery_person_Ratings  \\\n",
       "0    INDORES13DEL02                   37                     4.9   \n",
       "1    BANGRES18DEL02                   34                     4.5   \n",
       "2    BANGRES19DEL01                   23                     4.4   \n",
       "3   COIMBRES13DEL02                   38                     4.7   \n",
       "4    CHENRES12DEL01                   32                     4.6   \n",
       "\n",
       "   Restaurant_latitude  Restaurant_longitude  Delivery_location_latitude  \\\n",
       "0            22.745049             75.892471                   22.765049   \n",
       "1            12.913041             77.683237                   13.043041   \n",
       "2            12.914264             77.678400                   12.924264   \n",
       "3            11.003669             76.976494                   11.053669   \n",
       "4            12.972793             80.249982                   13.012793   \n",
       "\n",
       "   Delivery_location_longitude  Order_Date Time_Orderd Time_Order_picked  \\\n",
       "0                    75.912471  19-03-2022    11:30:00          11:45:00   \n",
       "1                    77.813237  25-03-2022    19:45:00          19:50:00   \n",
       "2                    77.688400  19-03-2022    08:30:00          08:45:00   \n",
       "3                    77.026494  05-04-2022    18:00:00          18:10:00   \n",
       "4                    80.289982  26-03-2022    13:30:00          13:45:00   \n",
       "\n",
       "       Weatherconditions Road_traffic_density  Vehicle_condition  \\\n",
       "0       conditions Sunny                High                   2   \n",
       "1      conditions Stormy                 Jam                   2   \n",
       "2  conditions Sandstorms                 Low                   0   \n",
       "3       conditions Sunny              Medium                   0   \n",
       "4      conditions Cloudy                High                   1   \n",
       "\n",
       "  Type_of_order Type_of_vehicle multiple_deliveries Festival            City  \\\n",
       "0        Snack      motorcycle                    0      No           Urban    \n",
       "1        Snack         scooter                    1      No   Metropolitian    \n",
       "2       Drinks      motorcycle                    1      No           Urban    \n",
       "3       Buffet      motorcycle                    1      No   Metropolitian    \n",
       "4        Snack         scooter                    1      No   Metropolitian    \n",
       "\n",
       "  Time_taken(min)  \n",
       "0        (min) 24  \n",
       "1        (min) 33  \n",
       "2        (min) 26  \n",
       "3        (min) 21  \n",
       "4        (min) 30  "
      ]
     },
     "execution_count": 300,
     "metadata": {},
     "output_type": "execute_result"
    }
   ],
   "source": [
    "df.head()"
   ]
  },
  {
   "cell_type": "markdown",
   "metadata": {},
   "source": [
    "## 2.2 Dataset Features\n",
    "\n",
    "- **Delivery_person_ID**: Unique identifier for each delivery person in the system.\n",
    "- **Delivery_person_Age**: Age of the delivery person, which may affect delivery performance.\n",
    "- **Delivery_person_Ratings**: Customer ratings for the delivery person, indicating service quality.\n",
    "- **Restaurant_latitude**: Geographic latitude coordinate of the restaurant location.\n",
    "- **Restaurant_longitude**: Geographic longitude coordinate of the restaurant location.\n",
    "- **Delivery_location_latitude**: Geographic latitude coordinate of the delivery destination.\n",
    "- **Delivery_location_longitude**: Geographic longitude coordinate of the delivery destination.\n",
    "- **Order_Date**: Date when the order was placed.\n",
    "- **Time_Orderd**: Time when the order was placed by the customer.\n",
    "- **Time_Order_picked**: Time when the delivery person picked up the order from the restaurant.\n",
    "- **Weatherconditions**: Current weather conditions during delivery (e.g., sunny, rainy, foggy).\n",
    "- **Road_traffic_density**: Level of traffic congestion on the delivery route.\n",
    "- **Vehicle_condition**: Condition of the delivery vehicle (scale of 0-2).\n",
    "- **Type_of_order**: Category of the order (e.g., meal, snack, drinks).\n",
    "- **Type_of_vehicle**: Vehicle used for delivery (e.g., motorcycle, scooter).\n",
    "- **multiple_deliveries**: Number of simultaneous deliveries being handled by the delivery person.\n",
    "- **Festival**: Whether the delivery occurred during a festival period.\n",
    "- **City**: Type of city area (urban, metropolitan, semi-urban).\n",
    "- **Time_taken(min)**: Total time taken to complete the delivery in minutes."
   ]
  },
  {
   "cell_type": "markdown",
   "metadata": {},
   "source": [
    "## 3. Data Quality Checks\n",
    "\n",
    "### 3.1 Missing Values Analysis\n",
    "- Check for null values in each column\n",
    "- Identify patterns in missing data\n",
    "- Determine appropriate handling methods\n",
    "\n",
    "### 3.2 Duplicate Detection\n",
    "- Identify duplicate records\n",
    "- Analyze duplicate patterns\n",
    "- Decide on duplicate handling strategy"
   ]
  },
  {
   "cell_type": "code",
   "execution_count": 301,
   "metadata": {},
   "outputs": [
    {
     "data": {
      "text/plain": [
       "Delivery_person_ID             0\n",
       "Delivery_person_Age            0\n",
       "Delivery_person_Ratings        0\n",
       "Restaurant_latitude            0\n",
       "Restaurant_longitude           0\n",
       "Delivery_location_latitude     0\n",
       "Delivery_location_longitude    0\n",
       "Order_Date                     0\n",
       "Time_Orderd                    0\n",
       "Time_Order_picked              0\n",
       "Weatherconditions              0\n",
       "Road_traffic_density           0\n",
       "Vehicle_condition              0\n",
       "Type_of_order                  0\n",
       "Type_of_vehicle                0\n",
       "multiple_deliveries            0\n",
       "Festival                       0\n",
       "City                           0\n",
       "Time_taken(min)                0\n",
       "dtype: int64"
      ]
     },
     "execution_count": 301,
     "metadata": {},
     "output_type": "execute_result"
    }
   ],
   "source": [
    "df.isna().sum()"
   ]
  },
  {
   "cell_type": "markdown",
   "metadata": {},
   "source": [
    "There are no missing values in dataset"
   ]
  },
  {
   "cell_type": "code",
   "execution_count": 302,
   "metadata": {},
   "outputs": [
    {
     "data": {
      "text/plain": [
       "np.int64(0)"
      ]
     },
     "execution_count": 302,
     "metadata": {},
     "output_type": "execute_result"
    }
   ],
   "source": [
    "df.duplicated().sum()"
   ]
  },
  {
   "cell_type": "markdown",
   "metadata": {},
   "source": [
    "There are no duplicates values in the data set\n"
   ]
  },
  {
   "cell_type": "markdown",
   "metadata": {},
   "source": [
    "### 3.3 Data Type Verification\n",
    "- Verify correct data types for each column\n",
    "- Check for type inconsistencies\n",
    "- Plan necessary type conversions"
   ]
  },
  {
   "cell_type": "code",
   "execution_count": 303,
   "metadata": {},
   "outputs": [
    {
     "name": "stdout",
     "output_type": "stream",
     "text": [
      "<class 'pandas.core.frame.DataFrame'>\n",
      "RangeIndex: 45593 entries, 0 to 45592\n",
      "Data columns (total 19 columns):\n",
      " #   Column                       Non-Null Count  Dtype  \n",
      "---  ------                       --------------  -----  \n",
      " 0   Delivery_person_ID           45593 non-null  object \n",
      " 1   Delivery_person_Age          45593 non-null  object \n",
      " 2   Delivery_person_Ratings      45593 non-null  object \n",
      " 3   Restaurant_latitude          45593 non-null  float64\n",
      " 4   Restaurant_longitude         45593 non-null  float64\n",
      " 5   Delivery_location_latitude   45593 non-null  float64\n",
      " 6   Delivery_location_longitude  45593 non-null  float64\n",
      " 7   Order_Date                   45593 non-null  object \n",
      " 8   Time_Orderd                  45593 non-null  object \n",
      " 9   Time_Order_picked            45593 non-null  object \n",
      " 10  Weatherconditions            45593 non-null  object \n",
      " 11  Road_traffic_density         45593 non-null  object \n",
      " 12  Vehicle_condition            45593 non-null  int64  \n",
      " 13  Type_of_order                45593 non-null  object \n",
      " 14  Type_of_vehicle              45593 non-null  object \n",
      " 15  multiple_deliveries          45593 non-null  object \n",
      " 16  Festival                     45593 non-null  object \n",
      " 17  City                         45593 non-null  object \n",
      " 18  Time_taken(min)              45593 non-null  object \n",
      "dtypes: float64(4), int64(1), object(14)\n",
      "memory usage: 6.6+ MB\n"
     ]
    }
   ],
   "source": [
    "# Check Null and Dtypes\n",
    "df.info()"
   ]
  },
  {
   "cell_type": "code",
   "execution_count": 304,
   "metadata": {},
   "outputs": [
    {
     "data": {
      "text/plain": [
       "Delivery_person_ID             0\n",
       "Delivery_person_Age            0\n",
       "Delivery_person_Ratings        0\n",
       "Restaurant_latitude            0\n",
       "Restaurant_longitude           0\n",
       "Delivery_location_latitude     0\n",
       "Delivery_location_longitude    0\n",
       "Order_Date                     0\n",
       "Time_Orderd                    0\n",
       "Time_Order_picked              0\n",
       "Weatherconditions              0\n",
       "Road_traffic_density           0\n",
       "Vehicle_condition              0\n",
       "Type_of_order                  0\n",
       "Type_of_vehicle                0\n",
       "multiple_deliveries            0\n",
       "Festival                       0\n",
       "City                           0\n",
       "Time_taken(min)                0\n",
       "dtype: int64"
      ]
     },
     "execution_count": 304,
     "metadata": {},
     "output_type": "execute_result"
    }
   ],
   "source": [
    "df.isnull().sum()"
   ]
  },
  {
   "cell_type": "markdown",
   "metadata": {},
   "source": [
    "As we see above we have bunch of null, Nan values . we will clean them step by step depending columns dataypes"
   ]
  },
  {
   "cell_type": "markdown",
   "metadata": {},
   "source": [
    "### 3.4 Unique Value Analysis\n",
    "- Count unique values per column\n",
    "- Identify categorical variables\n",
    "- Analyze value distributions"
   ]
  },
  {
   "cell_type": "code",
   "execution_count": 305,
   "metadata": {},
   "outputs": [
    {
     "name": "stdout",
     "output_type": "stream",
     "text": [
      "Unique Ratings: ['4.9' '4.5' '4.4' '4.7' '4.6' '4.8' '4.2' '4.3' '4' '4.1' '5' '3.5'\n",
      " 'NaN ' '3.8' '3.9' '3.7' '2.6' '2.5' '3.6' '3.1' '2.7' '1' '3.2' '3.3'\n",
      " '6' '3.4' '2.8' '2.9' '3']\n",
      "Unique Age: ['37' '34' '23' '38' '32' '22' '33' '35' '36' '21' '24' '29' '25' '31'\n",
      " '27' '26' '20' 'NaN ' '28' '39' '30' '15' '50']\n",
      "Unique multiple deliveries:  ['0' '1' '3' 'NaN ' '2']\n",
      "Unique cities: ['Urban ' 'Metropolitian ' 'Semi-Urban ' 'NaN ']\n",
      "Unique Weather info : ['conditions Sunny' 'conditions Stormy' 'conditions Sandstorms'\n",
      " 'conditions Cloudy' 'conditions Fog' 'conditions Windy' 'conditions NaN']\n",
      "Unique Road_traffic_density : ['High ' 'Jam ' 'Low ' 'Medium ' 'NaN ']\n",
      "Unique Festival : ['No ' 'Yes ' 'NaN ']\n",
      "Unique Deliveries : ['0' '1' '3' 'NaN ' '2']\n"
     ]
    }
   ],
   "source": [
    "print('Unique Ratings:', df['Delivery_person_Ratings'].unique())\n",
    "print('Unique Age:', df['Delivery_person_Age'].unique())\n",
    "print('Unique multiple deliveries: ', df['multiple_deliveries'].unique())\n",
    "print('Unique cities:', df['City'].unique())\n",
    "print('Unique Weather info :' , df['Weatherconditions'].unique())\n",
    "print('Unique Road_traffic_density :' , df['Road_traffic_density'].unique())\n",
    "print('Unique Festival :' , df['Festival'].unique())\n",
    "print('Unique Deliveries :' , df['multiple_deliveries'].unique())\n"
   ]
  },
  {
   "cell_type": "code",
   "execution_count": 307,
   "metadata": {},
   "outputs": [
    {
     "name": "stdout",
     "output_type": "stream",
     "text": [
      "4.8\n"
     ]
    },
    {
     "data": {
      "text/plain": [
       "array([4.9, 4.5, 4.4, 4.7, 4.6, 4.8, 4.2, 4.3, 4.0, 4.1, 5.0, 3.5, '4.8',\n",
       "       3.8, 3.9, 3.7, 2.6, 2.5, 3.6, 3.1, 2.7, 1.0, 3.2, 3.3, 6.0, 3.4,\n",
       "       2.8, 2.9, 3.0], dtype=object)"
      ]
     },
     "execution_count": 307,
     "metadata": {},
     "output_type": "execute_result"
    }
   ],
   "source": [
    "# Handling missing and invalid ratings:\n",
    "# - Replace NaN values with the most frequent rating (mode)\n",
    "# - Convert ratings to float type for numerical operations\n",
    "mode_ratings = df['Delivery_person_Ratings'].mode()[0]\n",
    "print(mode_ratings)\n",
    "df['Delivery_person_Ratings'] =  df['Delivery_person_Ratings'].astype('float64')\n",
    "df['Delivery_person_Ratings'] =  df['Delivery_person_Ratings'].fillna(mode_ratings)\n",
    "\n",
    "# - Replace invalid rating (6) with mode value since ratings should be between 1-5\n",
    "\n",
    "df['Delivery_person_Ratings'] =  df['Delivery_person_Ratings'].replace('6',mode_ratings)\n",
    "df['Delivery_person_Ratings'].unique()"
   ]
  },
  {
   "cell_type": "code",
   "execution_count": 308,
   "metadata": {},
   "outputs": [],
   "source": [
    "# Handling missing age values:\n",
    "# - Convert string 'NaN' to actual NaN values\n",
    "# - Convert age column to float type\n",
    "# - Fill missing values with mean age to maintain data distribution\n",
    "df['Delivery_person_Age'] = df['Delivery_person_Age'].replace('NaN', np.nan)\n",
    "df['Delivery_person_Age'] = df['Delivery_person_Age'].astype('float64')\n",
    "df['Delivery_person_Age'] = df['Delivery_person_Age'].fillna(df['Delivery_person_Age'].mean())"
   ]
  },
  {
   "cell_type": "code",
   "execution_count": 309,
   "metadata": {},
   "outputs": [
    {
     "name": "stdout",
     "output_type": "stream",
     "text": [
      "Metropolitian \n"
     ]
    }
   ],
   "source": [
    "# Handling city data:\n",
    "# - Replace empty strings and whitespace with NaN\n",
    "# - Fill missing values with the most frequent city type\n",
    "# - Standardize city values by replacing  'NaN' entries with mode\n",
    "df['City'] = df['City'].replace(r'^\\s*$', np.nan, regex=True)\n",
    "df['City'] = df['City'].replace('', np.nan)\n",
    "\n",
    "city_mode = df['City'].mode()[0]\n",
    "print(city_mode)\n",
    "df['City'] = df['City'].fillna(city_mode)"
   ]
  },
  {
   "cell_type": "code",
   "execution_count": 310,
   "metadata": {},
   "outputs": [
    {
     "data": {
      "text/plain": [
       "array(['Urban ', 'Metropolitian ', 'Semi-Urban '], dtype=object)"
      ]
     },
     "execution_count": 310,
     "metadata": {},
     "output_type": "execute_result"
    }
   ],
   "source": [
    "df['City'] = df['City'].replace('NaN ','Metropolitian ')\n",
    "df.City.unique()"
   ]
  },
  {
   "cell_type": "code",
   "execution_count": 311,
   "metadata": {},
   "outputs": [
    {
     "data": {
      "text/plain": [
       "array(['0', '1', '3', '2'], dtype=object)"
      ]
     },
     "execution_count": 311,
     "metadata": {},
     "output_type": "execute_result"
    }
   ],
   "source": [
    "# Handling multiple deliveries:\n",
    "# - Replace missing values with the most frequent value\n",
    "# - Ensure consistent data format\n",
    "mode_multiple_deliveries = df['multiple_deliveries'].mode()[0]\n",
    "df['multiple_deliveries'] = df['multiple_deliveries'].replace('NaN ',mode_multiple_deliveries)\n",
    "df['multiple_deliveries'].unique()"
   ]
  },
  {
   "cell_type": "code",
   "execution_count": 312,
   "metadata": {},
   "outputs": [],
   "source": [
    "# Processing weather conditions:\n",
    "# - Fill missing values with the most common weather condition\n",
    "# - Remove 'conditions ' prefix for cleaner data\n",
    "# - Rename column for better readability\n",
    "\n",
    "df['Weatherconditions']=df['Weatherconditions'].fillna(df['Weatherconditions'].mode()[0])\n",
    "df['Weatherconditions'] = df['Weatherconditions'].str.replace('conditions ', '')\n",
    "df['Weatherconditions'].unique()\n",
    "df = df.rename(columns={'Weatherconditions': 'Weather_Conditions'})"
   ]
  },
  {
   "cell_type": "code",
   "execution_count": 313,
   "metadata": {},
   "outputs": [
    {
     "name": "stdout",
     "output_type": "stream",
     "text": [
      "0    No \n",
      "Name: Festival, dtype: object\n"
     ]
    },
    {
     "data": {
      "text/plain": [
       "array(['No ', 'Yes '], dtype=object)"
      ]
     },
     "execution_count": 313,
     "metadata": {},
     "output_type": "execute_result"
    }
   ],
   "source": [
    "# Handling festival data:\n",
    "# - Fill missing values with the most common value ('No')\n",
    "# - Standardize festival values\n",
    "\n",
    "festival_mode = df['Festival'].mode()\n",
    "print(festival_mode)\n",
    "df['Festival'] = df['Festival'].fillna(festival_mode)\n",
    "df['Festival'] = df['Festival'].replace('NaN ', 'No ')\n",
    "df['Festival'].unique()"
   ]
  },
  {
   "cell_type": "code",
   "execution_count": 314,
   "metadata": {},
   "outputs": [
    {
     "name": "stdout",
     "output_type": "stream",
     "text": [
      "['High ' 'Jam ' 'Low ' 'Medium ' 'NaN ']\n",
      "['High ' 'Jam ' 'Low ' 'Medium ']\n"
     ]
    }
   ],
   "source": [
    "# Processing road traffic density:\n",
    "# - Fill missing values with the most common traffic condition\n",
    "# - Standardize traffic density values\n",
    "\n",
    "print(df['Road_traffic_density'].unique())\n",
    "df['Road_traffic_density']=df['Road_traffic_density'].fillna(df.Road_traffic_density.mode()[0])\n",
    "df['Road_traffic_density'] = df['Road_traffic_density'].str.replace('NaN ' , df['Road_traffic_density'].mode()[0])\n",
    "print(df['Road_traffic_density'].unique())"
   ]
  },
  {
   "cell_type": "code",
   "execution_count": 315,
   "metadata": {},
   "outputs": [],
   "source": [
    "\n",
    "# Time data processing:\n",
    "# - Fill missing order times with the most common time\n",
    "# - Convert time strings to datetime objects\n",
    "# - Extract time components for better analysis\n",
    "df['Time_Orderd']=df['Time_Orderd'].fillna(df.Time_Orderd.mode()[0])\n",
    "df['Time_Orderd'] = pd.to_datetime(df['Time_Orderd'], format='%H:%M:%S', errors='coerce').dt.time\n",
    "df['Time_Order_picked'] = pd.to_datetime(df['Time_Order_picked'], format='%H:%M:%S', errors='coerce').dt.time"
   ]
  },
  {
   "cell_type": "code",
   "execution_count": 316,
   "metadata": {},
   "outputs": [],
   "source": [
    "# Time taken datatype change -min deleted \n",
    "df['Time_taken(min)'] = df['Time_taken(min)'].str.extract(r'(\\d+)').astype('Int64')"
   ]
  },
  {
   "cell_type": "code",
   "execution_count": 317,
   "metadata": {},
   "outputs": [
    {
     "name": "stderr",
     "output_type": "stream",
     "text": [
      "/var/folders/tp/gqwfhh6n7tjccj865ssw74b80000gn/T/ipykernel_93818/449764775.py:3: UserWarning: Parsing dates in %d-%m-%Y format when dayfirst=False (the default) was specified. Pass `dayfirst=True` or specify a format to silence this warning.\n",
      "  df['Order_Date']=pd.to_datetime(df['Order_Date'])\n"
     ]
    }
   ],
   "source": [
    "# Date processing:\n",
    "# - Convert order date to datetime format\n",
    "# - Extract day, month, and year components for temporal analysis\n",
    "df['Order_Date']=pd.to_datetime(df['Order_Date'])\n",
    "df['Order_day']=df['Order_Date'].dt.day.astype('int64')\n",
    "df['Order_month']=df['Order_Date'].dt.month.astype('int64')\n",
    "df['Order_year']=df['Order_Date'].dt.year.astype('int64')"
   ]
  },
  {
   "cell_type": "code",
   "execution_count": 319,
   "metadata": {},
   "outputs": [
    {
     "data": {
      "text/html": [
       "<div>\n",
       "<style scoped>\n",
       "    .dataframe tbody tr th:only-of-type {\n",
       "        vertical-align: middle;\n",
       "    }\n",
       "\n",
       "    .dataframe tbody tr th {\n",
       "        vertical-align: top;\n",
       "    }\n",
       "\n",
       "    .dataframe thead th {\n",
       "        text-align: right;\n",
       "    }\n",
       "</style>\n",
       "<table border=\"1\" class=\"dataframe\">\n",
       "  <thead>\n",
       "    <tr style=\"text-align: right;\">\n",
       "      <th></th>\n",
       "      <th>Delivery_person_ID</th>\n",
       "      <th>Delivery_person_Age</th>\n",
       "      <th>Delivery_person_Ratings</th>\n",
       "      <th>Restaurant_latitude</th>\n",
       "      <th>Restaurant_longitude</th>\n",
       "      <th>Delivery_location_latitude</th>\n",
       "      <th>Delivery_location_longitude</th>\n",
       "      <th>Order_Date</th>\n",
       "      <th>Time_Orderd</th>\n",
       "      <th>Time_Order_picked</th>\n",
       "      <th>...</th>\n",
       "      <th>Vehicle_condition</th>\n",
       "      <th>Type_of_order</th>\n",
       "      <th>Type_of_vehicle</th>\n",
       "      <th>multiple_deliveries</th>\n",
       "      <th>Festival</th>\n",
       "      <th>City</th>\n",
       "      <th>Time_taken(min)</th>\n",
       "      <th>Order_day</th>\n",
       "      <th>Order_month</th>\n",
       "      <th>Order_year</th>\n",
       "    </tr>\n",
       "  </thead>\n",
       "  <tbody>\n",
       "    <tr>\n",
       "      <th>0</th>\n",
       "      <td>INDORES13DEL02</td>\n",
       "      <td>37.0</td>\n",
       "      <td>4.9</td>\n",
       "      <td>22.745049</td>\n",
       "      <td>75.892471</td>\n",
       "      <td>22.765049</td>\n",
       "      <td>75.912471</td>\n",
       "      <td>2022-03-19</td>\n",
       "      <td>11:30:00</td>\n",
       "      <td>11:45:00</td>\n",
       "      <td>...</td>\n",
       "      <td>2</td>\n",
       "      <td>Snack</td>\n",
       "      <td>motorcycle</td>\n",
       "      <td>0</td>\n",
       "      <td>No</td>\n",
       "      <td>Urban</td>\n",
       "      <td>24</td>\n",
       "      <td>19</td>\n",
       "      <td>3</td>\n",
       "      <td>2022</td>\n",
       "    </tr>\n",
       "    <tr>\n",
       "      <th>1</th>\n",
       "      <td>BANGRES18DEL02</td>\n",
       "      <td>34.0</td>\n",
       "      <td>4.5</td>\n",
       "      <td>12.913041</td>\n",
       "      <td>77.683237</td>\n",
       "      <td>13.043041</td>\n",
       "      <td>77.813237</td>\n",
       "      <td>2022-03-25</td>\n",
       "      <td>19:45:00</td>\n",
       "      <td>19:50:00</td>\n",
       "      <td>...</td>\n",
       "      <td>2</td>\n",
       "      <td>Snack</td>\n",
       "      <td>scooter</td>\n",
       "      <td>1</td>\n",
       "      <td>No</td>\n",
       "      <td>Metropolitian</td>\n",
       "      <td>33</td>\n",
       "      <td>25</td>\n",
       "      <td>3</td>\n",
       "      <td>2022</td>\n",
       "    </tr>\n",
       "    <tr>\n",
       "      <th>2</th>\n",
       "      <td>BANGRES19DEL01</td>\n",
       "      <td>23.0</td>\n",
       "      <td>4.4</td>\n",
       "      <td>12.914264</td>\n",
       "      <td>77.678400</td>\n",
       "      <td>12.924264</td>\n",
       "      <td>77.688400</td>\n",
       "      <td>2022-03-19</td>\n",
       "      <td>08:30:00</td>\n",
       "      <td>08:45:00</td>\n",
       "      <td>...</td>\n",
       "      <td>0</td>\n",
       "      <td>Drinks</td>\n",
       "      <td>motorcycle</td>\n",
       "      <td>1</td>\n",
       "      <td>No</td>\n",
       "      <td>Urban</td>\n",
       "      <td>26</td>\n",
       "      <td>19</td>\n",
       "      <td>3</td>\n",
       "      <td>2022</td>\n",
       "    </tr>\n",
       "    <tr>\n",
       "      <th>3</th>\n",
       "      <td>COIMBRES13DEL02</td>\n",
       "      <td>38.0</td>\n",
       "      <td>4.7</td>\n",
       "      <td>11.003669</td>\n",
       "      <td>76.976494</td>\n",
       "      <td>11.053669</td>\n",
       "      <td>77.026494</td>\n",
       "      <td>2022-04-05</td>\n",
       "      <td>18:00:00</td>\n",
       "      <td>18:10:00</td>\n",
       "      <td>...</td>\n",
       "      <td>0</td>\n",
       "      <td>Buffet</td>\n",
       "      <td>motorcycle</td>\n",
       "      <td>1</td>\n",
       "      <td>No</td>\n",
       "      <td>Metropolitian</td>\n",
       "      <td>21</td>\n",
       "      <td>5</td>\n",
       "      <td>4</td>\n",
       "      <td>2022</td>\n",
       "    </tr>\n",
       "    <tr>\n",
       "      <th>4</th>\n",
       "      <td>CHENRES12DEL01</td>\n",
       "      <td>32.0</td>\n",
       "      <td>4.6</td>\n",
       "      <td>12.972793</td>\n",
       "      <td>80.249982</td>\n",
       "      <td>13.012793</td>\n",
       "      <td>80.289982</td>\n",
       "      <td>2022-03-26</td>\n",
       "      <td>13:30:00</td>\n",
       "      <td>13:45:00</td>\n",
       "      <td>...</td>\n",
       "      <td>1</td>\n",
       "      <td>Snack</td>\n",
       "      <td>scooter</td>\n",
       "      <td>1</td>\n",
       "      <td>No</td>\n",
       "      <td>Metropolitian</td>\n",
       "      <td>30</td>\n",
       "      <td>26</td>\n",
       "      <td>3</td>\n",
       "      <td>2022</td>\n",
       "    </tr>\n",
       "  </tbody>\n",
       "</table>\n",
       "<p>5 rows × 22 columns</p>\n",
       "</div>"
      ],
      "text/plain": [
       "  Delivery_person_ID  Delivery_person_Age Delivery_person_Ratings  \\\n",
       "0    INDORES13DEL02                  37.0                     4.9   \n",
       "1    BANGRES18DEL02                  34.0                     4.5   \n",
       "2    BANGRES19DEL01                  23.0                     4.4   \n",
       "3   COIMBRES13DEL02                  38.0                     4.7   \n",
       "4    CHENRES12DEL01                  32.0                     4.6   \n",
       "\n",
       "   Restaurant_latitude  Restaurant_longitude  Delivery_location_latitude  \\\n",
       "0            22.745049             75.892471                   22.765049   \n",
       "1            12.913041             77.683237                   13.043041   \n",
       "2            12.914264             77.678400                   12.924264   \n",
       "3            11.003669             76.976494                   11.053669   \n",
       "4            12.972793             80.249982                   13.012793   \n",
       "\n",
       "   Delivery_location_longitude Order_Date Time_Orderd Time_Order_picked  ...  \\\n",
       "0                    75.912471 2022-03-19    11:30:00          11:45:00  ...   \n",
       "1                    77.813237 2022-03-25    19:45:00          19:50:00  ...   \n",
       "2                    77.688400 2022-03-19    08:30:00          08:45:00  ...   \n",
       "3                    77.026494 2022-04-05    18:00:00          18:10:00  ...   \n",
       "4                    80.289982 2022-03-26    13:30:00          13:45:00  ...   \n",
       "\n",
       "  Vehicle_condition Type_of_order  Type_of_vehicle multiple_deliveries  \\\n",
       "0                 2        Snack       motorcycle                    0   \n",
       "1                 2        Snack          scooter                    1   \n",
       "2                 0       Drinks       motorcycle                    1   \n",
       "3                 0       Buffet       motorcycle                    1   \n",
       "4                 1        Snack          scooter                    1   \n",
       "\n",
       "  Festival            City Time_taken(min) Order_day  Order_month  Order_year  \n",
       "0      No           Urban               24        19            3        2022  \n",
       "1      No   Metropolitian               33        25            3        2022  \n",
       "2      No           Urban               26        19            3        2022  \n",
       "3      No   Metropolitian               21         5            4        2022  \n",
       "4      No   Metropolitian               30        26            3        2022  \n",
       "\n",
       "[5 rows x 22 columns]"
      ]
     },
     "execution_count": 319,
     "metadata": {},
     "output_type": "execute_result"
    }
   ],
   "source": [
    "df['Time_Order_picked'] = pd.to_datetime(df['Time_Order_picked'], format='%H:%M:%S', errors='coerce')\n",
    "df['Time_Order_picked'] = pd.to_datetime(df['Time_Order_picked'], format='%H:%M:%S', errors='coerce').dt.time"
   ]
  },
  {
   "cell_type": "code",
   "execution_count": null,
   "metadata": {},
   "outputs": [],
   "source": [
    "df.head()"
   ]
  },
  {
   "cell_type": "code",
   "execution_count": null,
   "metadata": {},
   "outputs": [],
   "source": [
    "df.describe()"
   ]
  },
  {
   "cell_type": "markdown",
   "metadata": {},
   "source": [
    "3.5 Check statistics of data set"
   ]
  },
  {
   "cell_type": "markdown",
   "metadata": {},
   "source": [
    "Analysis of descriptive stats:\n",
    "- Age Range = 12-50\n",
    "- Appr. mean Age = 30\n",
    "- Median Age = 30 (close to mean which means normal distribution)\n",
    "- Std = 5.7 \n",
    "\n"
   ]
  },
  {
   "cell_type": "code",
   "execution_count": null,
   "metadata": {},
   "outputs": [
    {
     "data": {
      "text/html": [
       "<div>\n",
       "<style scoped>\n",
       "    .dataframe tbody tr th:only-of-type {\n",
       "        vertical-align: middle;\n",
       "    }\n",
       "\n",
       "    .dataframe tbody tr th {\n",
       "        vertical-align: top;\n",
       "    }\n",
       "\n",
       "    .dataframe thead th {\n",
       "        text-align: right;\n",
       "    }\n",
       "</style>\n",
       "<table border=\"1\" class=\"dataframe\">\n",
       "  <thead>\n",
       "    <tr style=\"text-align: right;\">\n",
       "      <th></th>\n",
       "      <th>Delivery_person_ID</th>\n",
       "      <th>Delivery_person_Age</th>\n",
       "      <th>Delivery_person_Ratings</th>\n",
       "      <th>Restaurant_latitude</th>\n",
       "      <th>Restaurant_longitude</th>\n",
       "      <th>Delivery_location_latitude</th>\n",
       "      <th>Delivery_location_longitude</th>\n",
       "      <th>Order_Date</th>\n",
       "      <th>Time_Orderd</th>\n",
       "      <th>Time_Order_picked</th>\n",
       "      <th>...</th>\n",
       "      <th>Type_of_order</th>\n",
       "      <th>Type_of_vehicle</th>\n",
       "      <th>multiple_deliveries</th>\n",
       "      <th>Festival</th>\n",
       "      <th>City</th>\n",
       "      <th>Time_taken(min)</th>\n",
       "      <th>Order_day</th>\n",
       "      <th>Order_month</th>\n",
       "      <th>Order_year</th>\n",
       "      <th>distance</th>\n",
       "    </tr>\n",
       "  </thead>\n",
       "  <tbody>\n",
       "    <tr>\n",
       "      <th>0</th>\n",
       "      <td>INDORES13DEL02</td>\n",
       "      <td>37.0</td>\n",
       "      <td>4.9</td>\n",
       "      <td>22.745049</td>\n",
       "      <td>75.892471</td>\n",
       "      <td>22.765049</td>\n",
       "      <td>75.912471</td>\n",
       "      <td>2022-03-19</td>\n",
       "      <td>11:30:00</td>\n",
       "      <td>11:45:00</td>\n",
       "      <td>...</td>\n",
       "      <td>Snack</td>\n",
       "      <td>motorcycle</td>\n",
       "      <td>0</td>\n",
       "      <td>No</td>\n",
       "      <td>Urban</td>\n",
       "      <td>24</td>\n",
       "      <td>19</td>\n",
       "      <td>3</td>\n",
       "      <td>2022</td>\n",
       "      <td>3.020737</td>\n",
       "    </tr>\n",
       "    <tr>\n",
       "      <th>1</th>\n",
       "      <td>BANGRES18DEL02</td>\n",
       "      <td>34.0</td>\n",
       "      <td>4.5</td>\n",
       "      <td>12.913041</td>\n",
       "      <td>77.683237</td>\n",
       "      <td>13.043041</td>\n",
       "      <td>77.813237</td>\n",
       "      <td>2022-03-25</td>\n",
       "      <td>19:45:00</td>\n",
       "      <td>19:50:00</td>\n",
       "      <td>...</td>\n",
       "      <td>Snack</td>\n",
       "      <td>scooter</td>\n",
       "      <td>1</td>\n",
       "      <td>No</td>\n",
       "      <td>Metropolitian</td>\n",
       "      <td>33</td>\n",
       "      <td>25</td>\n",
       "      <td>3</td>\n",
       "      <td>2022</td>\n",
       "      <td>20.143737</td>\n",
       "    </tr>\n",
       "    <tr>\n",
       "      <th>2</th>\n",
       "      <td>BANGRES19DEL01</td>\n",
       "      <td>23.0</td>\n",
       "      <td>4.4</td>\n",
       "      <td>12.914264</td>\n",
       "      <td>77.678400</td>\n",
       "      <td>12.924264</td>\n",
       "      <td>77.688400</td>\n",
       "      <td>2022-03-19</td>\n",
       "      <td>08:30:00</td>\n",
       "      <td>08:45:00</td>\n",
       "      <td>...</td>\n",
       "      <td>Drinks</td>\n",
       "      <td>motorcycle</td>\n",
       "      <td>1</td>\n",
       "      <td>No</td>\n",
       "      <td>Urban</td>\n",
       "      <td>26</td>\n",
       "      <td>19</td>\n",
       "      <td>3</td>\n",
       "      <td>2022</td>\n",
       "      <td>1.549693</td>\n",
       "    </tr>\n",
       "    <tr>\n",
       "      <th>3</th>\n",
       "      <td>COIMBRES13DEL02</td>\n",
       "      <td>38.0</td>\n",
       "      <td>4.7</td>\n",
       "      <td>11.003669</td>\n",
       "      <td>76.976494</td>\n",
       "      <td>11.053669</td>\n",
       "      <td>77.026494</td>\n",
       "      <td>2022-04-05</td>\n",
       "      <td>18:00:00</td>\n",
       "      <td>18:10:00</td>\n",
       "      <td>...</td>\n",
       "      <td>Buffet</td>\n",
       "      <td>motorcycle</td>\n",
       "      <td>1</td>\n",
       "      <td>No</td>\n",
       "      <td>Metropolitian</td>\n",
       "      <td>21</td>\n",
       "      <td>5</td>\n",
       "      <td>4</td>\n",
       "      <td>2022</td>\n",
       "      <td>7.774497</td>\n",
       "    </tr>\n",
       "    <tr>\n",
       "      <th>4</th>\n",
       "      <td>CHENRES12DEL01</td>\n",
       "      <td>32.0</td>\n",
       "      <td>4.6</td>\n",
       "      <td>12.972793</td>\n",
       "      <td>80.249982</td>\n",
       "      <td>13.012793</td>\n",
       "      <td>80.289982</td>\n",
       "      <td>2022-03-26</td>\n",
       "      <td>13:30:00</td>\n",
       "      <td>13:45:00</td>\n",
       "      <td>...</td>\n",
       "      <td>Snack</td>\n",
       "      <td>scooter</td>\n",
       "      <td>1</td>\n",
       "      <td>No</td>\n",
       "      <td>Metropolitian</td>\n",
       "      <td>30</td>\n",
       "      <td>26</td>\n",
       "      <td>3</td>\n",
       "      <td>2022</td>\n",
       "      <td>6.197898</td>\n",
       "    </tr>\n",
       "  </tbody>\n",
       "</table>\n",
       "<p>5 rows × 23 columns</p>\n",
       "</div>"
      ],
      "text/plain": [
       "  Delivery_person_ID  Delivery_person_Age Delivery_person_Ratings  \\\n",
       "0    INDORES13DEL02                  37.0                     4.9   \n",
       "1    BANGRES18DEL02                  34.0                     4.5   \n",
       "2    BANGRES19DEL01                  23.0                     4.4   \n",
       "3   COIMBRES13DEL02                  38.0                     4.7   \n",
       "4    CHENRES12DEL01                  32.0                     4.6   \n",
       "\n",
       "   Restaurant_latitude  Restaurant_longitude  Delivery_location_latitude  \\\n",
       "0            22.745049             75.892471                   22.765049   \n",
       "1            12.913041             77.683237                   13.043041   \n",
       "2            12.914264             77.678400                   12.924264   \n",
       "3            11.003669             76.976494                   11.053669   \n",
       "4            12.972793             80.249982                   13.012793   \n",
       "\n",
       "   Delivery_location_longitude Order_Date Time_Orderd Time_Order_picked  ...  \\\n",
       "0                    75.912471 2022-03-19    11:30:00          11:45:00  ...   \n",
       "1                    77.813237 2022-03-25    19:45:00          19:50:00  ...   \n",
       "2                    77.688400 2022-03-19    08:30:00          08:45:00  ...   \n",
       "3                    77.026494 2022-04-05    18:00:00          18:10:00  ...   \n",
       "4                    80.289982 2022-03-26    13:30:00          13:45:00  ...   \n",
       "\n",
       "  Type_of_order Type_of_vehicle  multiple_deliveries Festival            City  \\\n",
       "0        Snack      motorcycle                     0      No           Urban    \n",
       "1        Snack         scooter                     1      No   Metropolitian    \n",
       "2       Drinks      motorcycle                     1      No           Urban    \n",
       "3       Buffet      motorcycle                     1      No   Metropolitian    \n",
       "4        Snack         scooter                     1      No   Metropolitian    \n",
       "\n",
       "  Time_taken(min) Order_day Order_month  Order_year   distance  \n",
       "0              24        19           3        2022   3.020737  \n",
       "1              33        25           3        2022  20.143737  \n",
       "2              26        19           3        2022   1.549693  \n",
       "3              21         5           4        2022   7.774497  \n",
       "4              30        26           3        2022   6.197898  \n",
       "\n",
       "[5 rows x 23 columns]"
      ]
     },
     "execution_count": 320,
     "metadata": {},
     "output_type": "execute_result"
    }
   ],
   "source": [
    "# Distance calculation:\n",
    "# - Calculate delivery distance using geodesic distance\n",
    "# - Add distance as a new feature for analysis\n",
    "def distance_calculator(row):\n",
    "    'It calculates the distance between restaurant and delivery address'\n",
    "    restaurant_coordinates = (row['Restaurant_latitude'], row['Restaurant_longitude'])\n",
    "    delivery_address_coordinates = (row['Delivery_location_latitude'], row['Delivery_location_longitude'])\n",
    "\n",
    "    return geodesic(restaurant_coordinates,delivery_address_coordinates).kilometers\n",
    "\n",
    "df['distance']= df.apply(distance_calculator, axis = 1)"
   ]
  }
 ],
 "metadata": {
  "kernelspec": {
   "display_name": "venv",
   "language": "python",
   "name": "python3"
  },
  "language_info": {
   "codemirror_mode": {
    "name": "ipython",
    "version": 3
   },
   "file_extension": ".py",
   "mimetype": "text/x-python",
   "name": "python",
   "nbconvert_exporter": "python",
   "pygments_lexer": "ipython3",
   "version": "3.12.4"
  }
 },
 "nbformat": 4,
 "nbformat_minor": 2
}
