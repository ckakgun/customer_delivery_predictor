{
 "cells": [
  {
   "cell_type": "markdown",
   "metadata": {},
   "source": [
    "Customer DeliveryTime Prediction\n",
    "\n",
    "Lifecycle of ML Project\n",
    "* Understand th problem\n",
    "* Data Collection\n",
    "* Data Checks to perform\n",
    "* EDA\n",
    "* Data Pre-Processing\n",
    "* Model Training\n",
    "* Best model selection\n",
    "\n",
    "\n",
    "1. Problem Statement\n",
    "Predict delivery times for food orders to improve customer satisfaction and optimize delivery operations.\n",
    "\n",
    "2. Data Collection\n",
    "\n",
    "Dataset source: Uber Eats Dataset (https://www.kaggle.com/datasets/ramamet4/app-store-apple-data-set-10k-apps?resource=download)\n",
    "\n",
    "\n",
    "\n"
   ]
  }
 ],
 "metadata": {
  "language_info": {
   "name": "python"
  }
 },
 "nbformat": 4,
 "nbformat_minor": 2
}
